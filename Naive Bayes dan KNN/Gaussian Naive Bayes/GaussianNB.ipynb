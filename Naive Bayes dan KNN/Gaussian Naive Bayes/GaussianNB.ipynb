{
 "cells": [
  {
   "cell_type": "markdown",
   "metadata": {},
   "source": [
    "# Gaussian model"
   ]
  },
  {
   "cell_type": "code",
   "execution_count": 13,
   "metadata": {},
   "outputs": [],
   "source": [
    "import numpy as np\n",
    "import pandas as pd\n",
    "import matplotlib.pyplot as plt\n",
    "from sklearn.model_selection import train_test_split\n",
    "from sklearn.linear_model import LinearRegression, BayesianRidge, SGDRegressor\n",
    "from sklearn.svm import SVC\n",
    "from sklearn.naive_bayes import GaussianNB, BernoulliNB, MultinomialNB\n",
    "from sklearn.metrics import f1_score, classification_report, confusion_matrix, mean_absolute_error, mean_squared_error"
   ]
  },
  {
   "cell_type": "markdown",
   "metadata": {},
   "source": [
    "## Dataset"
   ]
  },
  {
   "cell_type": "code",
   "execution_count": 17,
   "metadata": {},
   "outputs": [],
   "source": [
    "df_hair = pd.read_csv('F:/Machine Learning/GaussianNB/Factor-Hair-Revised.csv', sep=';')"
   ]
  },
  {
   "cell_type": "code",
   "execution_count": 18,
   "metadata": {
    "scrolled": true
   },
   "outputs": [
    {
     "data": {
      "text/html": [
       "<div>\n",
       "<style scoped>\n",
       "    .dataframe tbody tr th:only-of-type {\n",
       "        vertical-align: middle;\n",
       "    }\n",
       "\n",
       "    .dataframe tbody tr th {\n",
       "        vertical-align: top;\n",
       "    }\n",
       "\n",
       "    .dataframe thead th {\n",
       "        text-align: right;\n",
       "    }\n",
       "</style>\n",
       "<table border=\"1\" class=\"dataframe\">\n",
       "  <thead>\n",
       "    <tr style=\"text-align: right;\">\n",
       "      <th></th>\n",
       "      <th>Quality</th>\n",
       "      <th>Comunication</th>\n",
       "      <th>Hability</th>\n",
       "      <th>polite</th>\n",
       "      <th>Advertising</th>\n",
       "      <th>products</th>\n",
       "      <th>staff_image</th>\n",
       "      <th>price</th>\n",
       "      <th>Customer_care</th>\n",
       "      <th>order_billing</th>\n",
       "      <th>speed</th>\n",
       "      <th>Satisfaction</th>\n",
       "    </tr>\n",
       "  </thead>\n",
       "  <tbody>\n",
       "    <tr>\n",
       "      <th>0</th>\n",
       "      <td>8.5</td>\n",
       "      <td>3.9</td>\n",
       "      <td>2.5</td>\n",
       "      <td>5.9</td>\n",
       "      <td>4.8</td>\n",
       "      <td>4.9</td>\n",
       "      <td>6.0</td>\n",
       "      <td>6.8</td>\n",
       "      <td>4.7</td>\n",
       "      <td>5.0</td>\n",
       "      <td>3.7</td>\n",
       "      <td>8.2</td>\n",
       "    </tr>\n",
       "    <tr>\n",
       "      <th>1</th>\n",
       "      <td>8.2</td>\n",
       "      <td>2.7</td>\n",
       "      <td>5.1</td>\n",
       "      <td>7.2</td>\n",
       "      <td>3.4</td>\n",
       "      <td>7.9</td>\n",
       "      <td>3.1</td>\n",
       "      <td>5.3</td>\n",
       "      <td>5.5</td>\n",
       "      <td>3.9</td>\n",
       "      <td>4.9</td>\n",
       "      <td>5.7</td>\n",
       "    </tr>\n",
       "    <tr>\n",
       "      <th>2</th>\n",
       "      <td>9.2</td>\n",
       "      <td>3.4</td>\n",
       "      <td>5.6</td>\n",
       "      <td>5.6</td>\n",
       "      <td>5.4</td>\n",
       "      <td>7.4</td>\n",
       "      <td>5.8</td>\n",
       "      <td>4.5</td>\n",
       "      <td>6.2</td>\n",
       "      <td>5.4</td>\n",
       "      <td>4.5</td>\n",
       "      <td>8.9</td>\n",
       "    </tr>\n",
       "    <tr>\n",
       "      <th>3</th>\n",
       "      <td>6.4</td>\n",
       "      <td>3.3</td>\n",
       "      <td>7.0</td>\n",
       "      <td>3.7</td>\n",
       "      <td>4.7</td>\n",
       "      <td>4.7</td>\n",
       "      <td>4.5</td>\n",
       "      <td>8.8</td>\n",
       "      <td>7.0</td>\n",
       "      <td>4.3</td>\n",
       "      <td>3.0</td>\n",
       "      <td>4.8</td>\n",
       "    </tr>\n",
       "    <tr>\n",
       "      <th>4</th>\n",
       "      <td>9.0</td>\n",
       "      <td>3.4</td>\n",
       "      <td>5.2</td>\n",
       "      <td>4.6</td>\n",
       "      <td>2.2</td>\n",
       "      <td>6.0</td>\n",
       "      <td>4.5</td>\n",
       "      <td>6.8</td>\n",
       "      <td>6.1</td>\n",
       "      <td>4.5</td>\n",
       "      <td>3.5</td>\n",
       "      <td>7.1</td>\n",
       "    </tr>\n",
       "  </tbody>\n",
       "</table>\n",
       "</div>"
      ],
      "text/plain": [
       "   Quality  Comunication  Hability  polite  Advertising  products  \\\n",
       "0      8.5           3.9       2.5     5.9          4.8       4.9   \n",
       "1      8.2           2.7       5.1     7.2          3.4       7.9   \n",
       "2      9.2           3.4       5.6     5.6          5.4       7.4   \n",
       "3      6.4           3.3       7.0     3.7          4.7       4.7   \n",
       "4      9.0           3.4       5.2     4.6          2.2       6.0   \n",
       "\n",
       "   staff_image  price  Customer_care  order_billing  speed  Satisfaction  \n",
       "0          6.0    6.8            4.7            5.0    3.7           8.2  \n",
       "1          3.1    5.3            5.5            3.9    4.9           5.7  \n",
       "2          5.8    4.5            6.2            5.4    4.5           8.9  \n",
       "3          4.5    8.8            7.0            4.3    3.0           4.8  \n",
       "4          4.5    6.8            6.1            4.5    3.5           7.1  "
      ]
     },
     "execution_count": 18,
     "metadata": {},
     "output_type": "execute_result"
    }
   ],
   "source": [
    "df_hair[:5]"
   ]
  },
  {
   "cell_type": "code",
   "execution_count": 20,
   "metadata": {
    "scrolled": true
   },
   "outputs": [],
   "source": [
    "train = df_hair.drop(columns=['Satisfaction'])\n",
    "test = df_hair['Satisfaction']\n",
    "X_train, X_test, y_train, y_test = train_test_split(train, test, test_size=0.20)"
   ]
  },
  {
   "cell_type": "code",
   "execution_count": 21,
   "metadata": {},
   "outputs": [
    {
     "name": "stdout",
     "output_type": "stream",
     "text": [
      "Min satisfaction: 4.7\n",
      "Max satisfaction: 9.9\n"
     ]
    }
   ],
   "source": [
    "print('Min satisfaction:', test.min())\n",
    "print('Max satisfaction:', test.max())"
   ]
  },
  {
   "cell_type": "markdown",
   "metadata": {},
   "source": [
    "## Classification"
   ]
  },
  {
   "cell_type": "code",
   "execution_count": 22,
   "metadata": {},
   "outputs": [
    {
     "data": {
      "text/plain": [
       "(array([ 8., 14.,  7., 17., 14., 17., 10.,  7.,  5.,  1.]),\n",
       " array([4.7 , 5.22, 5.74, 6.26, 6.78, 7.3 , 7.82, 8.34, 8.86, 9.38, 9.9 ]),\n",
       " <BarContainer object of 10 artists>)"
      ]
     },
     "execution_count": 22,
     "metadata": {},
     "output_type": "execute_result"
    },
    {
     "data": {
      "image/png": "[encoded data removed]",
      "text/plain": [
       "<Figure size 432x288 with 1 Axes>"
      ]
     },
     "metadata": {
      "needs_background": "light"
     },
     "output_type": "display_data"
    }
   ],
   "source": [
    "plt.hist(df_hair['Satisfaction'])"
   ]
  },
  {
   "cell_type": "code",
   "execution_count": 23,
   "metadata": {},
   "outputs": [],
   "source": [
    "def satisfaction_classification(satisfaction):\n",
    "    if satisfaction <=7:\n",
    "        return 0 #user unsatisfy\n",
    "    else:\n",
    "        return 1 #user satisfy\n",
    "    \n",
    "df_hair['satisfaction_class'] = df_hair.apply(lambda x: satisfaction_classification(x['Satisfaction']), axis=1)"
   ]
  },
  {
   "cell_type": "code",
   "execution_count": 24,
   "metadata": {},
   "outputs": [
    {
     "data": {
      "text/plain": [
       "0.5"
      ]
     },
     "execution_count": 24,
     "metadata": {},
     "output_type": "execute_result"
    }
   ],
   "source": [
    "df_hair['satisfaction_class'].mean()"
   ]
  },
  {
   "cell_type": "code",
   "execution_count": 25,
   "metadata": {},
   "outputs": [],
   "source": [
    "train_2 = df_hair.drop(columns=['Satisfaction', 'satisfaction_class'])\n",
    "test_2 = df_hair['satisfaction_class']\n",
    "X_train_2, X_test_2, y_train_2, y_test_2 = train_test_split(train_2, test_2, test_size=0.20)"
   ]
  },
  {
   "cell_type": "code",
   "execution_count": 26,
   "metadata": {},
   "outputs": [
    {
     "name": "stdout",
     "output_type": "stream",
     "text": [
      "CLASSIFICATION IN TRAIN\n",
      "\n",
      "CONFUSION MATRIX:\n",
      " [[27  4]\n",
      " [12 37]]\n",
      "\n",
      "F1 SCORE:\n",
      " 0.8222222222222222\n",
      "\n",
      "CLASSIFICATION REPORT\n",
      "               precision    recall  f1-score   support\n",
      "\n",
      "           0       0.69      0.87      0.77        31\n",
      "           1       0.90      0.76      0.82        49\n",
      "\n",
      "    accuracy                           0.80        80\n",
      "   macro avg       0.80      0.81      0.80        80\n",
      "weighted avg       0.82      0.80      0.80        80\n",
      "\n"
     ]
    }
   ],
   "source": [
    "nb = GaussianNB()\n",
    "nb.fit(X_train_2, y_train_2)\n",
    "\n",
    "preds_train = nb.predict(X_train_2)\n",
    "\n",
    "print('CLASSIFICATION IN TRAIN')\n",
    "print()\n",
    "print('CONFUSION MATRIX:\\n', confusion_matrix(preds_train, y_train_2))\n",
    "print()\n",
    "print('F1 SCORE:\\n', f1_score(preds_train, y_train_2))\n",
    "print()\n",
    "print('CLASSIFICATION REPORT\\n',classification_report(preds_train, y_train_2))"
   ]
  },
  {
   "cell_type": "code",
   "execution_count": 32,
   "metadata": {},
   "outputs": [
    {
     "name": "stdout",
     "output_type": "stream",
     "text": [
      "CLASSIFICATION IN TEST\n",
      "\n",
      "CONFUSION MATRIX:\n",
      " [[9 2]\n",
      " [2 7]]\n",
      "\n",
      "F1 SCORE:\n",
      " 0.7777777777777778\n",
      "\n",
      "CLASSIFICATION REPORT\n",
      "               precision    recall  f1-score   support\n",
      "\n",
      "           0       0.82      0.82      0.82        11\n",
      "           1       0.78      0.78      0.78         9\n",
      "\n",
      "    accuracy                           0.80        20\n",
      "   macro avg       0.80      0.80      0.80        20\n",
      "weighted avg       0.80      0.80      0.80        20\n",
      "\n"
     ]
    }
   ],
   "source": [
    "#Classification in test\n",
    "preds_trest = nb.predict(X_test_2)\n",
    "\n",
    "#metrics classifications in train\n",
    "print('CLASSIFICATION IN TEST')\n",
    "print()\n",
    "print('CONFUSION MATRIX:\\n', confusion_matrix(preds_trest, y_test_2))\n",
    "print()\n",
    "print('F1 SCORE:\\n', f1_score(preds_trest, y_test_2))\n",
    "print()\n",
    "print('CLASSIFICATION REPORT\\n',classification_report(preds_trest, y_test_2))"
   ]
  }
 ],
 "metadata": {
  "kernelspec": {
   "display_name": "Python 3",
   "language": "python",
   "name": "python3"
  },
  "language_info": {
   "codemirror_mode": {
    "name": "ipython",
    "version": 3
   },
   "file_extension": ".py",
   "mimetype": "text/x-python",
   "name": "python",
   "nbconvert_exporter": "python",
   "pygments_lexer": "ipython3",
   "version": "3.8.8"
  }
 },
 "nbformat": 4,
 "nbformat_minor": 2
}
