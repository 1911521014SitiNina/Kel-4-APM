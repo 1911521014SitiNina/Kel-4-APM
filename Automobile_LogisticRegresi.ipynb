{
 "cells": [
  {
   "cell_type": "markdown",
   "metadata": {
    "colab_type": "text",
    "id": "view-in-github"
   },
   "source": [
    "<a href=\"https://colab.research.google.com/github/1911521014SitiNina/Kel-4-APM/blob/main/Automobile_SimpleRegresi.ipynb\" target=\"_parent\"><img src=\"https://colab.research.google.com/assets/colab-badge.svg\" alt=\"Open In Colab\"/></a>"
   ]
  },
  {
   "cell_type": "code",
   "execution_count": 1,
   "metadata": {
    "id": "l9Ufeic_QcCX"
   },
   "outputs": [
    {
     "name": "stdout",
     "output_type": "stream",
     "text": [
      "Requirement already satisfied: sklearn in c:\\users\\bukyt\\anaconda3\\lib\\site-packages (0.0)\n",
      "Requirement already satisfied: scikit-learn in c:\\users\\bukyt\\anaconda3\\lib\\site-packages (from sklearn) (1.0.1)\n",
      "Requirement already satisfied: joblib>=0.11 in c:\\users\\bukyt\\anaconda3\\lib\\site-packages (from scikit-learn->sklearn) (1.0.1)\n",
      "Requirement already satisfied: scipy>=1.1.0 in c:\\users\\bukyt\\anaconda3\\lib\\site-packages (from scikit-learn->sklearn) (1.6.2)\n",
      "Requirement already satisfied: numpy>=1.14.6 in c:\\users\\bukyt\\anaconda3\\lib\\site-packages (from scikit-learn->sklearn) (1.20.1)\n",
      "Requirement already satisfied: threadpoolctl>=2.0.0 in c:\\users\\bukyt\\anaconda3\\lib\\site-packages (from scikit-learn->sklearn) (2.1.0)\n",
      "Note: you may need to restart the kernel to use updated packages.\n"
     ]
    }
   ],
   "source": [
    "pip install sklearn"
   ]
  },
  {
   "cell_type": "code",
   "execution_count": 1,
   "metadata": {},
   "outputs": [],
   "source": [
    "#import library\n",
    "import numpy as np\n",
    "import pandas as pd\n",
    "import matplotlib.pyplot as plt\n",
    "import sklearn"
   ]
  },
  {
   "cell_type": "code",
   "execution_count": 2,
   "metadata": {
    "id": "leLWnefoQtyp"
   },
   "outputs": [],
   "source": [
    "#memanggil dataset\n",
    "dataset = pd.read_excel('auto_mobile.xlsx',usecols=['engine_size','price'])"
   ]
  },
  {
   "cell_type": "code",
   "execution_count": 3,
   "metadata": {
    "colab": {
     "base_uri": "https://localhost:8080/",
     "height": 206
    },
    "id": "6geIrZaLQ3We",
    "outputId": "8ea2cf36-727d-49db-f10e-4297e54e613d"
   },
   "outputs": [
    {
     "data": {
      "text/html": [
       "<div>\n",
       "<style scoped>\n",
       "    .dataframe tbody tr th:only-of-type {\n",
       "        vertical-align: middle;\n",
       "    }\n",
       "\n",
       "    .dataframe tbody tr th {\n",
       "        vertical-align: top;\n",
       "    }\n",
       "\n",
       "    .dataframe thead th {\n",
       "        text-align: right;\n",
       "    }\n",
       "</style>\n",
       "<table border=\"1\" class=\"dataframe\">\n",
       "  <thead>\n",
       "    <tr style=\"text-align: right;\">\n",
       "      <th></th>\n",
       "      <th>engine_size</th>\n",
       "      <th>price</th>\n",
       "    </tr>\n",
       "  </thead>\n",
       "  <tbody>\n",
       "    <tr>\n",
       "      <th>0</th>\n",
       "      <td>130</td>\n",
       "      <td>13495.0</td>\n",
       "    </tr>\n",
       "    <tr>\n",
       "      <th>1</th>\n",
       "      <td>130</td>\n",
       "      <td>16500.0</td>\n",
       "    </tr>\n",
       "    <tr>\n",
       "      <th>2</th>\n",
       "      <td>152</td>\n",
       "      <td>16500.0</td>\n",
       "    </tr>\n",
       "    <tr>\n",
       "      <th>3</th>\n",
       "      <td>109</td>\n",
       "      <td>13950.0</td>\n",
       "    </tr>\n",
       "    <tr>\n",
       "      <th>4</th>\n",
       "      <td>136</td>\n",
       "      <td>17450.0</td>\n",
       "    </tr>\n",
       "  </tbody>\n",
       "</table>\n",
       "</div>"
      ],
      "text/plain": [
       "   engine_size    price\n",
       "0          130  13495.0\n",
       "1          130  16500.0\n",
       "2          152  16500.0\n",
       "3          109  13950.0\n",
       "4          136  17450.0"
      ]
     },
     "execution_count": 3,
     "metadata": {},
     "output_type": "execute_result"
    }
   ],
   "source": [
    "#menampilkan sebagian isi dataset\n",
    "df = pd.DataFrame(dataset)\n",
    "df.head()"
   ]
  },
  {
   "cell_type": "code",
   "execution_count": 4,
   "metadata": {
    "colab": {
     "base_uri": "https://localhost:8080/"
    },
    "id": "-RAWSaDtTa-w",
    "outputId": "ce82ebfd-b5f2-4fd1-93d2-1efbdb00f908"
   },
   "outputs": [
    {
     "data": {
      "text/plain": [
       "(201, 2)"
      ]
     },
     "execution_count": 4,
     "metadata": {},
     "output_type": "execute_result"
    }
   ],
   "source": [
    "df.shape"
   ]
  },
  {
   "cell_type": "code",
   "execution_count": 5,
   "metadata": {
    "colab": {
     "base_uri": "https://localhost:8080/"
    },
    "id": "RehfZx1VTfXb",
    "outputId": "fbde9d01-ff9b-488c-e0a1-f40e21114d84"
   },
   "outputs": [
    {
     "name": "stdout",
     "output_type": "stream",
     "text": [
      "<class 'pandas.core.frame.DataFrame'>\n",
      "RangeIndex: 201 entries, 0 to 200\n",
      "Data columns (total 2 columns):\n",
      " #   Column       Non-Null Count  Dtype  \n",
      "---  ------       --------------  -----  \n",
      " 0   engine_size  201 non-null    int64  \n",
      " 1   price        201 non-null    float64\n",
      "dtypes: float64(1), int64(1)\n",
      "memory usage: 3.3 KB\n"
     ]
    }
   ],
   "source": [
    "df.info()"
   ]
  },
  {
   "cell_type": "code",
   "execution_count": 6,
   "metadata": {
    "colab": {
     "base_uri": "https://localhost:8080/",
     "height": 300
    },
    "id": "6BURKqznTpHC",
    "outputId": "62089391-bc40-42aa-80af-44eb81042b03"
   },
   "outputs": [
    {
     "data": {
      "text/html": [
       "<div>\n",
       "<style scoped>\n",
       "    .dataframe tbody tr th:only-of-type {\n",
       "        vertical-align: middle;\n",
       "    }\n",
       "\n",
       "    .dataframe tbody tr th {\n",
       "        vertical-align: top;\n",
       "    }\n",
       "\n",
       "    .dataframe thead th {\n",
       "        text-align: right;\n",
       "    }\n",
       "</style>\n",
       "<table border=\"1\" class=\"dataframe\">\n",
       "  <thead>\n",
       "    <tr style=\"text-align: right;\">\n",
       "      <th></th>\n",
       "      <th>engine_size</th>\n",
       "      <th>price</th>\n",
       "    </tr>\n",
       "  </thead>\n",
       "  <tbody>\n",
       "    <tr>\n",
       "      <th>count</th>\n",
       "      <td>201.000000</td>\n",
       "      <td>201.000000</td>\n",
       "    </tr>\n",
       "    <tr>\n",
       "      <th>mean</th>\n",
       "      <td>126.875622</td>\n",
       "      <td>13207.129353</td>\n",
       "    </tr>\n",
       "    <tr>\n",
       "      <th>std</th>\n",
       "      <td>41.546834</td>\n",
       "      <td>7947.066342</td>\n",
       "    </tr>\n",
       "    <tr>\n",
       "      <th>min</th>\n",
       "      <td>61.000000</td>\n",
       "      <td>5118.000000</td>\n",
       "    </tr>\n",
       "    <tr>\n",
       "      <th>25%</th>\n",
       "      <td>98.000000</td>\n",
       "      <td>7775.000000</td>\n",
       "    </tr>\n",
       "    <tr>\n",
       "      <th>50%</th>\n",
       "      <td>120.000000</td>\n",
       "      <td>10295.000000</td>\n",
       "    </tr>\n",
       "    <tr>\n",
       "      <th>75%</th>\n",
       "      <td>141.000000</td>\n",
       "      <td>16500.000000</td>\n",
       "    </tr>\n",
       "    <tr>\n",
       "      <th>max</th>\n",
       "      <td>326.000000</td>\n",
       "      <td>45400.000000</td>\n",
       "    </tr>\n",
       "  </tbody>\n",
       "</table>\n",
       "</div>"
      ],
      "text/plain": [
       "       engine_size         price\n",
       "count   201.000000    201.000000\n",
       "mean    126.875622  13207.129353\n",
       "std      41.546834   7947.066342\n",
       "min      61.000000   5118.000000\n",
       "25%      98.000000   7775.000000\n",
       "50%     120.000000  10295.000000\n",
       "75%     141.000000  16500.000000\n",
       "max     326.000000  45400.000000"
      ]
     },
     "execution_count": 6,
     "metadata": {},
     "output_type": "execute_result"
    }
   ],
   "source": [
    "df.describe()"
   ]
  },
  {
   "cell_type": "code",
   "execution_count": 7,
   "metadata": {
    "id": "GcXuuD9jjtrw"
   },
   "outputs": [],
   "source": [
    "value = df['engine_size'].quantile(0.98)\n",
    "df = df.replace(np.inf, value)"
   ]
  },
  {
   "cell_type": "code",
   "execution_count": 8,
   "metadata": {
    "colab": {
     "base_uri": "https://localhost:8080/"
    },
    "id": "t_yabUMDTuJr",
    "outputId": "eb3e0540-1c1d-4653-945a-85ace782b9bc"
   },
   "outputs": [
    {
     "data": {
      "text/plain": [
       "engine_size    0\n",
       "price          0\n",
       "dtype: int64"
      ]
     },
     "execution_count": 8,
     "metadata": {},
     "output_type": "execute_result"
    }
   ],
   "source": [
    "# Mencari dan menangani missing values.\n",
    "df.isnull().sum()"
   ]
  },
  {
   "cell_type": "code",
   "execution_count": 9,
   "metadata": {
    "colab": {
     "base_uri": "https://localhost:8080/",
     "height": 265
    },
    "id": "fifDFHLsTzkf",
    "outputId": "98723aa1-3b34-4120-f734-19c4a65181c1"
   },
   "outputs": [
    {
     "data": {
      "image/png": "[encoded data removed]",
      "text/plain": [
       "<Figure size 864x288 with 2 Axes>"
      ]
     },
     "metadata": {
      "needs_background": "light"
     },
     "output_type": "display_data"
    }
   ],
   "source": [
    "# Univerative analysis engine_size.\n",
    "# Melihat distribusi dari engine_size.\n",
    "f = plt.figure(figsize=(12,4))\n",
    "\n",
    "f.add_subplot(1,2,1)\n",
    "df['engine_size'].plot(kind='kde')\n",
    "\n",
    "f.add_subplot(1,2,2)\n",
    "plt.boxplot(df['engine_size'])\n",
    "plt.show()"
   ]
  },
  {
   "cell_type": "code",
   "execution_count": 10,
   "metadata": {
    "colab": {
     "base_uri": "https://localhost:8080/",
     "height": 296
    },
    "id": "RgIxWMHTUKD_",
    "outputId": "764083ca-deb0-4903-fba4-d31493a2480f"
   },
   "outputs": [
    {
     "data": {
      "image/png": "[encoded data removed]",
      "text/plain": [
       "<Figure size 432x288 with 1 Axes>"
      ]
     },
     "metadata": {
      "needs_background": "light"
     },
     "output_type": "display_data"
    }
   ],
   "source": [
    "# Bivariate analysis horsepower dan price.\n",
    "# Menggundang scatter plot.\n",
    "plt.scatter(df['engine_size'], df['price'])\n",
    "plt.xlabel('engine_size')\n",
    "plt.ylabel('Price')\n",
    "plt.title('Scatter Plot Engine_size vs Price')\n",
    "plt.show()"
   ]
  },
  {
   "cell_type": "code",
   "execution_count": 11,
   "metadata": {
    "colab": {
     "base_uri": "https://localhost:8080/",
     "height": 112
    },
    "id": "ejR7c9IoUwNQ",
    "outputId": "9eff9591-4bb2-4a33-b1af-1d0a6fc1b681"
   },
   "outputs": [
    {
     "data": {
      "text/html": [
       "<div>\n",
       "<style scoped>\n",
       "    .dataframe tbody tr th:only-of-type {\n",
       "        vertical-align: middle;\n",
       "    }\n",
       "\n",
       "    .dataframe tbody tr th {\n",
       "        vertical-align: top;\n",
       "    }\n",
       "\n",
       "    .dataframe thead th {\n",
       "        text-align: right;\n",
       "    }\n",
       "</style>\n",
       "<table border=\"1\" class=\"dataframe\">\n",
       "  <thead>\n",
       "    <tr style=\"text-align: right;\">\n",
       "      <th></th>\n",
       "      <th>engine_size</th>\n",
       "      <th>price</th>\n",
       "    </tr>\n",
       "  </thead>\n",
       "  <tbody>\n",
       "    <tr>\n",
       "      <th>engine_size</th>\n",
       "      <td>1.000000</td>\n",
       "      <td>0.872335</td>\n",
       "    </tr>\n",
       "    <tr>\n",
       "      <th>price</th>\n",
       "      <td>0.872335</td>\n",
       "      <td>1.000000</td>\n",
       "    </tr>\n",
       "  </tbody>\n",
       "</table>\n",
       "</div>"
      ],
      "text/plain": [
       "             engine_size     price\n",
       "engine_size     1.000000  0.872335\n",
       "price           0.872335  1.000000"
      ]
     },
     "execution_count": 11,
     "metadata": {},
     "output_type": "execute_result"
    }
   ],
   "source": [
    "# Mengetahui nilai korelasi dari engine_size dan price.\n",
    "# Nilai korelasi adalah 0.87 termasuk kategori sangat tinggi.\n",
    "df.corr()"
   ]
  },
  {
   "cell_type": "code",
   "execution_count": 12,
   "metadata": {
    "id": "25xIYRyqU5Tb"
   },
   "outputs": [],
   "source": [
    "# Buat variable x dan y\n",
    "x = df['engine_size'].values.reshape(-1,1)\n",
    "y = df['price'].values.reshape(-1,1)"
   ]
  },
  {
   "cell_type": "code",
   "execution_count": 13,
   "metadata": {
    "id": "OgETXgmoRjgV"
   },
   "outputs": [],
   "source": [
    "from sklearn.model_selection import train_test_split\n",
    "# kita split data kita menjadi training and testing dengan porsi 80:20.\n",
    "x_train, x_test, y_train, y_test = train_test_split(x,y,test_size=0.2)"
   ]
  },
  {
   "cell_type": "code",
   "execution_count": 14,
   "metadata": {
    "id": "W-aij_R1VCnJ"
   },
   "outputs": [],
   "source": [
    "from sklearn.linear_model import LogisticRegression\n",
    "log_reg = LogisticRegression(max_iter=2000, solver='lbfgs')"
   ]
  },
  {
   "cell_type": "code",
   "execution_count": 15,
   "metadata": {
    "colab": {
     "base_uri": "https://localhost:8080/"
    },
    "id": "Vj-IiviUV0iZ",
    "outputId": "07d3794d-5c7a-4656-e4df-7856024d0a12"
   },
   "outputs": [
    {
     "data": {
      "text/plain": [
       "False"
      ]
     },
     "execution_count": 15,
     "metadata": {},
     "output_type": "execute_result"
    }
   ],
   "source": [
    "df.isnull().any().any()  #This code tells you if you have some NaN value in you dataframe"
   ]
  },
  {
   "cell_type": "code",
   "execution_count": 16,
   "metadata": {
    "colab": {
     "base_uri": "https://localhost:8080/"
    },
    "id": "o7JdsqbmV4tt",
    "outputId": "99b602bf-4392-40d0-fc29-c65f9f384c7d"
   },
   "outputs": [
    {
     "data": {
      "text/plain": [
       "engine_size    False\n",
       "price          False\n",
       "dtype: bool"
      ]
     },
     "execution_count": 16,
     "metadata": {},
     "output_type": "execute_result"
    }
   ],
   "source": [
    "df.isnull().any()"
   ]
  },
  {
   "cell_type": "code",
   "execution_count": 17,
   "metadata": {
    "id": "MAqS65jcYyeo"
   },
   "outputs": [],
   "source": [
    "# Only select rows that have all finite entries.\n",
    "x = x[np.all(np.isfinite(x), axis=1)]"
   ]
  },
  {
   "cell_type": "code",
   "execution_count": 18,
   "metadata": {
    "id": "m7oK3TdxZ3xe"
   },
   "outputs": [],
   "source": [
    "value = df['engine_size'].quantile(0.98)\n",
    "df = df.replace(np.inf, value)"
   ]
  },
  {
   "cell_type": "code",
   "execution_count": 19,
   "metadata": {
    "id": "OJ6KaIqajBMz"
   },
   "outputs": [],
   "source": [
    "value = df['price'].quantile(0.98)\n",
    "df = df.replace(np.inf, value)"
   ]
  },
  {
   "cell_type": "code",
   "execution_count": 20,
   "metadata": {
    "id": "gF9w5ovvjkQi"
   },
   "outputs": [],
   "source": [
    "data = df.fillna(method='ffill')"
   ]
  },
  {
   "cell_type": "code",
   "execution_count": 21,
   "metadata": {
    "colab": {
     "base_uri": "https://localhost:8080/"
    },
    "id": "-yL56_68VGvd",
    "outputId": "50c9dc3f-365a-4b3e-e7ce-636ea2af9cb3"
   },
   "outputs": [
    {
     "name": "stdout",
     "output_type": "stream",
     "text": [
      "[  64.31340988  208.91965193   91.64494455  136.75925975   64.31340987\n",
      "   97.61760737   91.64494455   97.61760736   97.31423079   86.17125451\n",
      "   86.1712545    97.3142308    86.1712545    97.61760737   91.64494455\n",
      "   27.5792228    91.64494455   64.31340987   86.17125451   61.21801016\n",
      "   -0.90802244   48.88730284   36.02881249   86.1712545    61.21801017\n",
      "   88.68142137   64.31340988   91.64494455   36.02881249   64.31340988\n",
      "   36.02881249   64.31340988   30.36984521   64.31340988   47.62631884\n",
      "   56.85759249   33.20096637   64.31340987   64.31340988   36.02881249\n",
      "   61.21801016   -0.90802244   33.20096638   61.21801016   64.31340987\n",
      "   61.21801016  -45.63237748   -0.90802244   61.21801016   86.1712545\n",
      "   30.36984521    3.25802357   -0.90802244   30.36984521   36.02881249\n",
      "   61.21801016   30.33786786  -20.94202385   61.21801016   64.31340987\n",
      "   61.21801016    4.31225465  -45.63237748   36.02881249   33.20096637\n",
      "   33.20096637   36.02881249   -0.90802244   30.36984521   30.36984521\n",
      "   30.36984521   -0.90802244  168.0828581     6.92501708  -45.63237748\n",
      "   -0.90802244   -0.90802244  -45.63237748   33.20096637   36.02881249\n",
      "  168.08286149    1.69010905    4.31225465    1.69010905   33.20096637\n",
      "    4.31225465  -65.84247013   30.36984521  -58.20783111  -27.03033008\n",
      "  -35.50768845  -17.76073853 -116.27215404  168.08285138   64.31340988\n",
      "   33.20096637 -117.5883986   -65.84247013  -65.84247013    1.69010905\n",
      "    1.69010905    4.31225465  134.09148224  -91.19098065  -74.39785302\n",
      "  -35.50768845  -91.19098065   36.0288125   -34.98250632  -33.6727768\n",
      "  -91.19098065    4.31225465    4.31225465  -35.50768845  -58.20783111\n",
      "   36.02881249 -117.5883986   -27.03033008  -45.63237748  -27.03033008\n",
      "  -58.20783111   -7.98684289  -33.6727768  -117.5883986   -17.76073853\n",
      "    1.69010905  -27.03033008  -35.50768845 -117.5883986   -79.23165585\n",
      "  -79.23165585  -95.26083346  -56.18171886  -43.51726712  -35.50768845\n",
      "  -19.37897203  -79.23165585 -124.48496054 -124.48496053 -124.48496054\n",
      " -175.81854315 -124.48496054 -152.52981297 -216.20801181 -216.2080342\n",
      " -384.70337963 -333.31381654 -175.81855182 -320.05072256]\n"
     ]
    },
    {
     "name": "stderr",
     "output_type": "stream",
     "text": [
      "C:\\Users\\bukyt\\anaconda3\\lib\\site-packages\\sklearn\\linear_model\\_logistic.py:814: ConvergenceWarning: lbfgs failed to converge (status=1):\n",
      "STOP: TOTAL NO. of ITERATIONS REACHED LIMIT.\n",
      "\n",
      "Increase the number of iterations (max_iter) or scale the data as shown in:\n",
      "    https://scikit-learn.org/stable/modules/preprocessing.html\n",
      "Please also refer to the documentation for alternative solver options:\n",
      "    https://scikit-learn.org/stable/modules/linear_model.html#logistic-regression\n",
      "  n_iter_i = _check_optimize_result(\n"
     ]
    }
   ],
   "source": [
    "# Training model menggunakan training data yang sudah di split\n",
    "log_reg.fit(x_train, np.ravel(y_train))\n",
    "print(log_reg.intercept_)"
   ]
  },
  {
   "cell_type": "code",
   "execution_count": 22,
   "metadata": {},
   "outputs": [],
   "source": [
    "y_pred = log_reg.predict(x_test)"
   ]
  },
  {
   "cell_type": "code",
   "execution_count": 23,
   "metadata": {
    "colab": {
     "base_uri": "https://localhost:8080/"
    },
    "id": "rNSYSE-BsACO",
    "outputId": "59af6d56-f285-42a4-b28e-825e8b00075e"
   },
   "outputs": [
    {
     "name": "stdout",
     "output_type": "stream",
     "text": [
      "[[-0.49758   ]\n",
      " [-2.33483848]\n",
      " [-0.78721185]\n",
      " [-1.30159326]\n",
      " [-0.49758   ]\n",
      " [-0.8445886 ]\n",
      " [-0.78721185]\n",
      " [-0.8445886 ]\n",
      " [-0.84876994]\n",
      " [-0.72820909]\n",
      " [-0.72820909]\n",
      " [-0.84876994]\n",
      " [-0.72820909]\n",
      " [-0.8445886 ]\n",
      " [-0.78721185]\n",
      " [-0.14374409]\n",
      " [-0.78721185]\n",
      " [-0.49758   ]\n",
      " [-0.72820909]\n",
      " [-0.4658207 ]\n",
      " [ 0.10113876]\n",
      " [-0.34284179]\n",
      " [-0.22093784]\n",
      " [-0.72820909]\n",
      " [-0.4658207 ]\n",
      " [-0.74774279]\n",
      " [-0.49758   ]\n",
      " [-0.78721185]\n",
      " [-0.22093784]\n",
      " [-0.49758   ]\n",
      " [-0.22093784]\n",
      " [-0.49758   ]\n",
      " [-0.16900706]\n",
      " [-0.49758   ]\n",
      " [-0.32419361]\n",
      " [-0.41490706]\n",
      " [-0.19486748]\n",
      " [-0.49758   ]\n",
      " [-0.49758   ]\n",
      " [-0.22093784]\n",
      " [-0.4658207 ]\n",
      " [ 0.10113876]\n",
      " [-0.19486748]\n",
      " [-0.4658207 ]\n",
      " [-0.49758   ]\n",
      " [-0.4658207 ]\n",
      " [ 0.43674811]\n",
      " [ 0.10113876]\n",
      " [-0.4658207 ]\n",
      " [-0.72820909]\n",
      " [-0.16900706]\n",
      " [ 0.07256869]\n",
      " [ 0.10113876]\n",
      " [-0.16900706]\n",
      " [-0.22093784]\n",
      " [-0.4658207 ]\n",
      " [-0.16244649]\n",
      " [ 0.25941617]\n",
      " [-0.4658207 ]\n",
      " [-0.49758   ]\n",
      " [-0.4658207 ]\n",
      " [ 0.05793608]\n",
      " [ 0.43674811]\n",
      " [-0.22093784]\n",
      " [-0.19486748]\n",
      " [-0.19486748]\n",
      " [-0.22093784]\n",
      " [ 0.10113876]\n",
      " [-0.16900706]\n",
      " [-0.16900706]\n",
      " [-0.16900706]\n",
      " [ 0.10113876]\n",
      " [-1.721197  ]\n",
      " [ 0.03605007]\n",
      " [ 0.43674811]\n",
      " [ 0.10113876]\n",
      " [ 0.10113876]\n",
      " [ 0.43674811]\n",
      " [-0.19486748]\n",
      " [-0.22093784]\n",
      " [-1.72119833]\n",
      " [ 0.07972434]\n",
      " [ 0.05793608]\n",
      " [ 0.07972434]\n",
      " [-0.19486748]\n",
      " [ 0.05793608]\n",
      " [ 0.571335  ]\n",
      " [-0.16900706]\n",
      " [ 0.52152678]\n",
      " [ 0.30477612]\n",
      " [ 0.36600574]\n",
      " [ 0.23519801]\n",
      " [ 0.87365029]\n",
      " [-1.72118467]\n",
      " [-0.49758   ]\n",
      " [-0.19486748]\n",
      " [ 0.87709045]\n",
      " [ 0.571335  ]\n",
      " [ 0.571335  ]\n",
      " [ 0.07972434]\n",
      " [ 0.07972434]\n",
      " [ 0.05793608]\n",
      " [-1.26840219]\n",
      " [ 0.72703547]\n",
      " [ 0.62556013]\n",
      " [ 0.36600574]\n",
      " [ 0.72703547]\n",
      " [-0.22093784]\n",
      " [ 0.36720225]\n",
      " [ 0.35292272]\n",
      " [ 0.72703547]\n",
      " [ 0.05793608]\n",
      " [ 0.05793608]\n",
      " [ 0.36600574]\n",
      " [ 0.52152678]\n",
      " [-0.22093784]\n",
      " [ 0.87709045]\n",
      " [ 0.30477612]\n",
      " [ 0.43674811]\n",
      " [ 0.30477612]\n",
      " [ 0.52152678]\n",
      " [ 0.16423782]\n",
      " [ 0.35292272]\n",
      " [ 0.87709045]\n",
      " [ 0.23519801]\n",
      " [ 0.07972434]\n",
      " [ 0.30477612]\n",
      " [ 0.36600574]\n",
      " [ 0.87709045]\n",
      " [ 0.65542797]\n",
      " [ 0.65542797]\n",
      " [ 0.7507514 ]\n",
      " [ 0.50809383]\n",
      " [ 0.42215988]\n",
      " [ 0.36600574]\n",
      " [ 0.2475626 ]\n",
      " [ 0.65542797]\n",
      " [ 0.91528762]\n",
      " [ 0.91528762]\n",
      " [ 0.91528762]\n",
      " [ 1.18220437]\n",
      " [ 0.91528762]\n",
      " [ 1.06631628]\n",
      " [ 1.36468986]\n",
      " [ 1.36467927]\n",
      " [ 1.92578682]\n",
      " [ 1.76271086]\n",
      " [ 1.18220996]\n",
      " [ 1.7196084 ]]\n",
      "[  64.31340988  208.91965193   91.64494455  136.75925975   64.31340987\n",
      "   97.61760737   91.64494455   97.61760736   97.31423079   86.17125451\n",
      "   86.1712545    97.3142308    86.1712545    97.61760737   91.64494455\n",
      "   27.5792228    91.64494455   64.31340987   86.17125451   61.21801016\n",
      "   -0.90802244   48.88730284   36.02881249   86.1712545    61.21801017\n",
      "   88.68142137   64.31340988   91.64494455   36.02881249   64.31340988\n",
      "   36.02881249   64.31340988   30.36984521   64.31340988   47.62631884\n",
      "   56.85759249   33.20096637   64.31340987   64.31340988   36.02881249\n",
      "   61.21801016   -0.90802244   33.20096638   61.21801016   64.31340987\n",
      "   61.21801016  -45.63237748   -0.90802244   61.21801016   86.1712545\n",
      "   30.36984521    3.25802357   -0.90802244   30.36984521   36.02881249\n",
      "   61.21801016   30.33786786  -20.94202385   61.21801016   64.31340987\n",
      "   61.21801016    4.31225465  -45.63237748   36.02881249   33.20096637\n",
      "   33.20096637   36.02881249   -0.90802244   30.36984521   30.36984521\n",
      "   30.36984521   -0.90802244  168.0828581     6.92501708  -45.63237748\n",
      "   -0.90802244   -0.90802244  -45.63237748   33.20096637   36.02881249\n",
      "  168.08286149    1.69010905    4.31225465    1.69010905   33.20096637\n",
      "    4.31225465  -65.84247013   30.36984521  -58.20783111  -27.03033008\n",
      "  -35.50768845  -17.76073853 -116.27215404  168.08285138   64.31340988\n",
      "   33.20096637 -117.5883986   -65.84247013  -65.84247013    1.69010905\n",
      "    1.69010905    4.31225465  134.09148224  -91.19098065  -74.39785302\n",
      "  -35.50768845  -91.19098065   36.0288125   -34.98250632  -33.6727768\n",
      "  -91.19098065    4.31225465    4.31225465  -35.50768845  -58.20783111\n",
      "   36.02881249 -117.5883986   -27.03033008  -45.63237748  -27.03033008\n",
      "  -58.20783111   -7.98684289  -33.6727768  -117.5883986   -17.76073853\n",
      "    1.69010905  -27.03033008  -35.50768845 -117.5883986   -79.23165585\n",
      "  -79.23165585  -95.26083346  -56.18171886  -43.51726712  -35.50768845\n",
      "  -19.37897203  -79.23165585 -124.48496054 -124.48496053 -124.48496054\n",
      " -175.81854315 -124.48496054 -152.52981297 -216.20801181 -216.2080342\n",
      " -384.70337963 -333.31381654 -175.81855182 -320.05072256]\n"
     ]
    }
   ],
   "source": [
    "# Cari nilai koefisien (m) dan intercept (b)\n",
    "print(log_reg.coef_)\n",
    "print(log_reg.intercept_)"
   ]
  },
  {
   "cell_type": "code",
   "execution_count": 2,
   "metadata": {
    "colab": {
     "base_uri": "https://localhost:8080/"
    },
    "id": "L5y2VBvksFCA",
    "outputId": "5a3df954-33db-4461-c875-094dbb738b43",
    "scrolled": true
   },
   "outputs": [
    {
     "name": "stdout",
     "output_type": "stream",
     "text": [
      "0.8023723463463212\n"
     ]
    }
   ],
   "source": [
    "# Cari nilai accuracy score\n",
    "log_reg.score(x_test,y_test)"
   ]
  },
  {
   "cell_type": "code",
   "execution_count": 25,
   "metadata": {
    "colab": {
     "base_uri": "https://localhost:8080/",
     "height": 313
    },
    "id": "3k2jd7yxsYAG",
    "outputId": "e163adc9-a0bc-4ea7-ce22-8af5e51bb7ff"
   },
   "outputs": [
    {
     "data": {
      "text/plain": [
       "Text(0.5, 1.0, 'Plot Engine_Size vs Price')"
      ]
     },
     "execution_count": 25,
     "metadata": {},
     "output_type": "execute_result"
    },
    {
     "data": {
      "image/png": "[encoded data removed]",
      "text/plain": [
       "<Figure size 432x288 with 1 Axes>"
      ]
     },
     "metadata": {
      "needs_background": "light"
     },
     "output_type": "display_data"
    }
   ],
   "source": [
    "y_prediksi = log_reg.predict(x_test)\n",
    "plt.scatter(x_test, y_test)\n",
    "plt.plot(x_test, y_prediksi, c='r')\n",
    "plt.xlabel('Engine_Size')\n",
    "plt.ylabel('Price')\n",
    "plt.title('Plot Engine_Size vs Price')"
   ]
  },
  {
   "cell_type": "code",
   "execution_count": 26,
   "metadata": {
    "colab": {
     "base_uri": "https://localhost:8080/"
    },
    "id": "H6Q14vPjshem",
    "outputId": "67db47dd-49ec-4fcb-9644-32b69f794d13"
   },
   "outputs": [
    {
     "data": {
      "text/plain": [
       "array([7957.])"
      ]
     },
     "execution_count": 26,
     "metadata": {},
     "output_type": "execute_result"
    }
   ],
   "source": [
    "# Prediksi harga mobil dengan horsepower 100.\n",
    "log_reg.predict([[100]])"
   ]
  },
  {
   "cell_type": "code",
   "execution_count": 27,
   "metadata": {
    "colab": {
     "base_uri": "https://localhost:8080/"
    },
    "id": "2z_2KgxcslkO",
    "outputId": "26939d86-5015-4e2b-b309-389ab88979c7"
   },
   "outputs": [
    {
     "data": {
      "text/plain": [
       "array([16500.])"
      ]
     },
     "execution_count": 27,
     "metadata": {},
     "output_type": "execute_result"
    }
   ],
   "source": [
    "# Prediksi harga mobil dengan horsepower 150.\n",
    "log_reg.predict([[150]])"
   ]
  },
  {
   "cell_type": "code",
   "execution_count": 28,
   "metadata": {
    "colab": {
     "base_uri": "https://localhost:8080/"
    },
    "id": "UiWtYu1EsnuE",
    "outputId": "d0aa1600-aefb-42c1-e0de-600bc1aae4ec"
   },
   "outputs": [
    {
     "data": {
      "text/plain": [
       "array([32528.])"
      ]
     },
     "execution_count": 28,
     "metadata": {},
     "output_type": "execute_result"
    }
   ],
   "source": [
    "# Prediksi harga mobil dengan horsepower 200.\n",
    "log_reg.predict([[200]])"
   ]
  },
  {
   "cell_type": "code",
   "execution_count": 29,
   "metadata": {},
   "outputs": [
    {
     "name": "stdout",
     "output_type": "stream",
     "text": [
      "Coefficient of determination : 0.0\n",
      "MSE:  5298522.0\n",
      "RMSE:  2301.851863174518\n"
     ]
    }
   ],
   "source": [
    "from sklearn.metrics import mean_squared_error\n",
    "print (\"Coefficient of determination :\",log_reg.score(y_test,y_prediksi))\n",
    "print (\"MSE: \",mean_squared_error(y_test,y_prediksi))\n",
    "print (\"RMSE: \",np.sqrt (mean_squared_error(y_test,y_prediksi)))"
   ]
  },
  {
   "cell_type": "code",
   "execution_count": null,
   "metadata": {},
   "outputs": [],
   "source": []
  }
 ],
 "metadata": {
  "colab": {
   "authorship_tag": "ABX9TyP0GfSDg2ePdbR/P5JdA+gM",
   "include_colab_link": true,
   "name": "Automobile_SimpleRegresi.ipynb",
   "provenance": []
  },
  "kernelspec": {
   "display_name": "Python 3",
   "language": "python",
   "name": "python3"
  },
  "language_info": {
   "codemirror_mode": {
    "name": "ipython",
    "version": 3
   },
   "file_extension": ".py",
   "mimetype": "text/x-python",
   "name": "python",
   "nbconvert_exporter": "python",
   "pygments_lexer": "ipython3",
   "version": "3.8.8"
  }
 },
 "nbformat": 4,
 "nbformat_minor": 1
}
